{
 "cells": [
  {
   "cell_type": "code",
   "execution_count": 1,
   "metadata": {
    "_cell_guid": "b1076dfc-b9ad-4769-8c92-a6c4dae69d19",
    "_uuid": "8f2839f25d086af736a60e9eeb907d3b93b6e0e5",
    "execution": {
     "iopub.execute_input": "2025-06-26T00:35:37.402260Z",
     "iopub.status.busy": "2025-06-26T00:35:37.402094Z",
     "iopub.status.idle": "2025-06-26T00:35:41.192298Z",
     "shell.execute_reply": "2025-06-26T00:35:41.191548Z",
     "shell.execute_reply.started": "2025-06-26T00:35:37.402245Z"
    },
    "trusted": true
   },
   "outputs": [],
   "source": [
    "# This Python 3 environment comes with many helpful analytics libraries installed\n",
    "# It is defined by the kaggle/python Docker image: https://github.com/kaggle/docker-python\n",
    "# For example, here's several helpful packages to load\n",
    "\n",
    "import numpy as np # linear algebra\n",
    "import pandas as pd # data processing, CSV file I/O (e.g. pd.read_csv)\n",
    "import matplotlib.pyplot as plt\n",
    "# Input data files are available in the read-only \"../input/\" directory\n",
    "# For example, running this (by clicking run or pressing Shift+Enter) will list all files under the input directory\n",
    "\n",
    "import os\n",
    "data=pd.read_csv('/kaggle/input/digit-recognizer/train.csv')"
   ]
  },
  {
   "cell_type": "code",
   "execution_count": 2,
   "metadata": {
    "execution": {
     "iopub.execute_input": "2025-06-26T00:37:29.096335Z",
     "iopub.status.busy": "2025-06-26T00:37:29.096113Z",
     "iopub.status.idle": "2025-06-26T00:37:29.117747Z",
     "shell.execute_reply": "2025-06-26T00:37:29.117132Z",
     "shell.execute_reply.started": "2025-06-26T00:37:29.096318Z"
    },
    "trusted": true
   },
   "outputs": [
    {
     "data": {
      "text/html": [
       "<div>\n",
       "<style scoped>\n",
       "    .dataframe tbody tr th:only-of-type {\n",
       "        vertical-align: middle;\n",
       "    }\n",
       "\n",
       "    .dataframe tbody tr th {\n",
       "        vertical-align: top;\n",
       "    }\n",
       "\n",
       "    .dataframe thead th {\n",
       "        text-align: right;\n",
       "    }\n",
       "</style>\n",
       "<table border=\"1\" class=\"dataframe\">\n",
       "  <thead>\n",
       "    <tr style=\"text-align: right;\">\n",
       "      <th></th>\n",
       "      <th>label</th>\n",
       "      <th>pixel0</th>\n",
       "      <th>pixel1</th>\n",
       "      <th>pixel2</th>\n",
       "      <th>pixel3</th>\n",
       "      <th>pixel4</th>\n",
       "      <th>pixel5</th>\n",
       "      <th>pixel6</th>\n",
       "      <th>pixel7</th>\n",
       "      <th>pixel8</th>\n",
       "      <th>...</th>\n",
       "      <th>pixel774</th>\n",
       "      <th>pixel775</th>\n",
       "      <th>pixel776</th>\n",
       "      <th>pixel777</th>\n",
       "      <th>pixel778</th>\n",
       "      <th>pixel779</th>\n",
       "      <th>pixel780</th>\n",
       "      <th>pixel781</th>\n",
       "      <th>pixel782</th>\n",
       "      <th>pixel783</th>\n",
       "    </tr>\n",
       "  </thead>\n",
       "  <tbody>\n",
       "    <tr>\n",
       "      <th>0</th>\n",
       "      <td>1</td>\n",
       "      <td>0</td>\n",
       "      <td>0</td>\n",
       "      <td>0</td>\n",
       "      <td>0</td>\n",
       "      <td>0</td>\n",
       "      <td>0</td>\n",
       "      <td>0</td>\n",
       "      <td>0</td>\n",
       "      <td>0</td>\n",
       "      <td>...</td>\n",
       "      <td>0</td>\n",
       "      <td>0</td>\n",
       "      <td>0</td>\n",
       "      <td>0</td>\n",
       "      <td>0</td>\n",
       "      <td>0</td>\n",
       "      <td>0</td>\n",
       "      <td>0</td>\n",
       "      <td>0</td>\n",
       "      <td>0</td>\n",
       "    </tr>\n",
       "    <tr>\n",
       "      <th>1</th>\n",
       "      <td>0</td>\n",
       "      <td>0</td>\n",
       "      <td>0</td>\n",
       "      <td>0</td>\n",
       "      <td>0</td>\n",
       "      <td>0</td>\n",
       "      <td>0</td>\n",
       "      <td>0</td>\n",
       "      <td>0</td>\n",
       "      <td>0</td>\n",
       "      <td>...</td>\n",
       "      <td>0</td>\n",
       "      <td>0</td>\n",
       "      <td>0</td>\n",
       "      <td>0</td>\n",
       "      <td>0</td>\n",
       "      <td>0</td>\n",
       "      <td>0</td>\n",
       "      <td>0</td>\n",
       "      <td>0</td>\n",
       "      <td>0</td>\n",
       "    </tr>\n",
       "    <tr>\n",
       "      <th>2</th>\n",
       "      <td>1</td>\n",
       "      <td>0</td>\n",
       "      <td>0</td>\n",
       "      <td>0</td>\n",
       "      <td>0</td>\n",
       "      <td>0</td>\n",
       "      <td>0</td>\n",
       "      <td>0</td>\n",
       "      <td>0</td>\n",
       "      <td>0</td>\n",
       "      <td>...</td>\n",
       "      <td>0</td>\n",
       "      <td>0</td>\n",
       "      <td>0</td>\n",
       "      <td>0</td>\n",
       "      <td>0</td>\n",
       "      <td>0</td>\n",
       "      <td>0</td>\n",
       "      <td>0</td>\n",
       "      <td>0</td>\n",
       "      <td>0</td>\n",
       "    </tr>\n",
       "    <tr>\n",
       "      <th>3</th>\n",
       "      <td>4</td>\n",
       "      <td>0</td>\n",
       "      <td>0</td>\n",
       "      <td>0</td>\n",
       "      <td>0</td>\n",
       "      <td>0</td>\n",
       "      <td>0</td>\n",
       "      <td>0</td>\n",
       "      <td>0</td>\n",
       "      <td>0</td>\n",
       "      <td>...</td>\n",
       "      <td>0</td>\n",
       "      <td>0</td>\n",
       "      <td>0</td>\n",
       "      <td>0</td>\n",
       "      <td>0</td>\n",
       "      <td>0</td>\n",
       "      <td>0</td>\n",
       "      <td>0</td>\n",
       "      <td>0</td>\n",
       "      <td>0</td>\n",
       "    </tr>\n",
       "    <tr>\n",
       "      <th>4</th>\n",
       "      <td>0</td>\n",
       "      <td>0</td>\n",
       "      <td>0</td>\n",
       "      <td>0</td>\n",
       "      <td>0</td>\n",
       "      <td>0</td>\n",
       "      <td>0</td>\n",
       "      <td>0</td>\n",
       "      <td>0</td>\n",
       "      <td>0</td>\n",
       "      <td>...</td>\n",
       "      <td>0</td>\n",
       "      <td>0</td>\n",
       "      <td>0</td>\n",
       "      <td>0</td>\n",
       "      <td>0</td>\n",
       "      <td>0</td>\n",
       "      <td>0</td>\n",
       "      <td>0</td>\n",
       "      <td>0</td>\n",
       "      <td>0</td>\n",
       "    </tr>\n",
       "  </tbody>\n",
       "</table>\n",
       "<p>5 rows × 785 columns</p>\n",
       "</div>"
      ],
      "text/plain": [
       "   label  pixel0  pixel1  pixel2  pixel3  pixel4  pixel5  pixel6  pixel7  \\\n",
       "0      1       0       0       0       0       0       0       0       0   \n",
       "1      0       0       0       0       0       0       0       0       0   \n",
       "2      1       0       0       0       0       0       0       0       0   \n",
       "3      4       0       0       0       0       0       0       0       0   \n",
       "4      0       0       0       0       0       0       0       0       0   \n",
       "\n",
       "   pixel8  ...  pixel774  pixel775  pixel776  pixel777  pixel778  pixel779  \\\n",
       "0       0  ...         0         0         0         0         0         0   \n",
       "1       0  ...         0         0         0         0         0         0   \n",
       "2       0  ...         0         0         0         0         0         0   \n",
       "3       0  ...         0         0         0         0         0         0   \n",
       "4       0  ...         0         0         0         0         0         0   \n",
       "\n",
       "   pixel780  pixel781  pixel782  pixel783  \n",
       "0         0         0         0         0  \n",
       "1         0         0         0         0  \n",
       "2         0         0         0         0  \n",
       "3         0         0         0         0  \n",
       "4         0         0         0         0  \n",
       "\n",
       "[5 rows x 785 columns]"
      ]
     },
     "execution_count": 2,
     "metadata": {},
     "output_type": "execute_result"
    }
   ],
   "source": [
    "data.head()"
   ]
  },
  {
   "cell_type": "code",
   "execution_count": 3,
   "metadata": {
    "execution": {
     "iopub.execute_input": "2025-06-26T00:37:31.875495Z",
     "iopub.status.busy": "2025-06-26T00:37:31.875228Z",
     "iopub.status.idle": "2025-06-26T00:37:32.308183Z",
     "shell.execute_reply": "2025-06-26T00:37:32.307583Z",
     "shell.execute_reply.started": "2025-06-26T00:37:31.875472Z"
    },
    "trusted": true
   },
   "outputs": [],
   "source": [
    "data=np.array(data)\n",
    "m, n = data.shape\n",
    "np.random.shuffle(data)\n",
    "\n",
    "data_dev = data[0:1000].T\n",
    "Y_dev = data_dev[0]\n",
    "X_dev = data_dev[1:]/255\n",
    "\n",
    "\n",
    "data_train=data[0:].T\n",
    "Y_train = data_train[0]\n",
    "X_train = data_train[1:]/255\n",
    "\n"
   ]
  },
  {
   "cell_type": "code",
   "execution_count": null,
   "metadata": {
    "execution": {
     "iopub.execute_input": "2025-06-26T01:26:07.740634Z",
     "iopub.status.busy": "2025-06-26T01:26:07.740437Z",
     "iopub.status.idle": "2025-06-26T01:26:07.747562Z",
     "shell.execute_reply": "2025-06-26T01:26:07.746628Z",
     "shell.execute_reply.started": "2025-06-26T01:26:07.740619Z"
    },
    "trusted": true
   },
   "outputs": [],
   "source": [
    "def init_params():\n",
    "    W1=np.random.rand(40,784) -0.5\n",
    "    b1=np.random.rand(40,1) - 0.5\n",
    "    W2=np.random.rand(10, 40) - 0.5\n",
    "    b2=np.random.rand(10,1) - 0.5\n",
    "    return W1,W2,b1,b2\n",
    "\n",
    "\n",
    "def ReLU(Z):\n",
    "    return np.maximum(Z,0)\n",
    "\n",
    "def softmax(z):\n",
    "    A = np.exp(z)/ sum(np.exp(z))\n",
    "    return A\n",
    "\n",
    "def forward_prop(W1,W2,b1,b2,X):\n",
    "    Z1 = W1.dot(X)+b1\n",
    "    A1 = ReLU(Z1)\n",
    "    Z2 = W2.dot(A1)+b2\n",
    "    A2 = softmax(Z2)\n",
    "    return Z1,Z2,A1,A2\n",
    "\n",
    "def deriv_ReLU(X):\n",
    "    return X>0\n",
    "\n",
    "def one_hot(Y):\n",
    "    one_hot_Y=np.zeros((Y.size, Y.max()+1))\n",
    "    one_hot_Y[np.arange(Y.size), Y] = 1\n",
    "    return one_hot_Y.T\n",
    "\n",
    "def backward_prop(Z1,Z2,A1,A2,W1,W2,X,Y):\n",
    "    one_hot_Y=one_hot(Y)\n",
    "    m=X.shape[1]\n",
    "    dZ2=A2-one_hot_Y\n",
    "    dW2=(1/m)*dZ2.dot(A1.T)\n",
    "    db2=(1/m)* np.sum(dZ2)\n",
    "\n",
    "    dZ1= W2.T.dot(dZ2)*deriv_ReLU(Z1)\n",
    "    dW1= (1/m)*dZ1.dot(X.T)\n",
    "    db1 = (1/m)* np.sum(dZ1)\n",
    "\n",
    "    return dW1, dW2, db1, db2\n",
    "\n",
    "def update_params(dW1,dW2,db1,db2,W1,W2,b1,b2, lr):\n",
    "    W1=W1-lr*dW1\n",
    "    W2=W2-lr*dW2\n",
    "    b1=b1-lr*db1\n",
    "    b2=b2-lr*db2\n",
    "    return W1, W2, b1, b2 \n",
    "\n",
    "    "
   ]
  },
  {
   "cell_type": "code",
   "execution_count": 17,
   "metadata": {
    "execution": {
     "iopub.execute_input": "2025-06-26T01:27:39.482875Z",
     "iopub.status.busy": "2025-06-26T01:27:39.482647Z",
     "iopub.status.idle": "2025-06-26T01:27:39.488113Z",
     "shell.execute_reply": "2025-06-26T01:27:39.487445Z",
     "shell.execute_reply.started": "2025-06-26T01:27:39.482859Z"
    },
    "trusted": true
   },
   "outputs": [],
   "source": [
    "def get_predictions(A2):\n",
    "    return np.argmax(A2, 0)\n",
    "\n",
    "def get_accuracy(predictions, Y):\n",
    "    print(predictions, Y)\n",
    "    return np.sum(predictions == Y) / Y.size\n",
    "\n",
    "\n",
    "def gradient_descent(X, Y, lr, epochs):\n",
    "    W1, W2, b1, b2 = init_params()\n",
    "\n",
    "    for i in range(epochs):\n",
    "        Z1, Z2, A1, A2 = forward_prop(W1, W2, b1, b2, X)\n",
    "        dW1,dW2,db1,db2 = backward_prop(Z1,Z2,A1,A2,W1,W2,X,Y)\n",
    "        W1,W2,b1,b2= update_params(dW1,dW2,db1,db2,W1,W2,b1,b2,lr)\n",
    "\n",
    "        if i%50 == 0:\n",
    "            print(\"======Iteration :\",i,\"======= \\n\")\n",
    "            predictions= get_predictions(A2)\n",
    "            print(get_accuracy(predictions,Y))\n",
    "    return W1,W2,b1,b2 "
   ]
  },
  {
   "cell_type": "code",
   "execution_count": 18,
   "metadata": {
    "execution": {
     "iopub.execute_input": "2025-06-26T01:27:45.408042Z",
     "iopub.status.busy": "2025-06-26T01:27:45.407814Z",
     "iopub.status.idle": "2025-06-26T01:29:42.979582Z",
     "shell.execute_reply": "2025-06-26T01:29:42.978879Z",
     "shell.execute_reply.started": "2025-06-26T01:27:45.408026Z"
    },
    "trusted": true
   },
   "outputs": [
    {
     "name": "stdout",
     "output_type": "stream",
     "text": [
      "======Iteration : 0 ======= \n",
      "\n",
      "[2 4 4 ... 4 9 9] [4 9 6 ... 7 0 5]\n",
      "0.07859523809523809\n",
      "======Iteration : 50 ======= \n",
      "\n",
      "[6 4 2 ... 7 8 5] [4 9 6 ... 7 0 5]\n",
      "0.47309523809523807\n",
      "======Iteration : 100 ======= \n",
      "\n",
      "[4 4 2 ... 7 0 5] [4 9 6 ... 7 0 5]\n",
      "0.6619285714285714\n",
      "======Iteration : 150 ======= \n",
      "\n",
      "[4 4 6 ... 7 0 5] [4 9 6 ... 7 0 5]\n",
      "0.7330714285714286\n",
      "======Iteration : 200 ======= \n",
      "\n",
      "[4 4 6 ... 7 0 5] [4 9 6 ... 7 0 5]\n",
      "0.7724047619047619\n",
      "======Iteration : 250 ======= \n",
      "\n",
      "[4 4 6 ... 7 0 5] [4 9 6 ... 7 0 5]\n",
      "0.7976666666666666\n",
      "======Iteration : 300 ======= \n",
      "\n",
      "[4 9 6 ... 7 0 5] [4 9 6 ... 7 0 5]\n",
      "0.8145714285714286\n",
      "======Iteration : 350 ======= \n",
      "\n",
      "[4 9 6 ... 7 0 5] [4 9 6 ... 7 0 5]\n",
      "0.828\n",
      "======Iteration : 400 ======= \n",
      "\n",
      "[4 9 6 ... 7 0 5] [4 9 6 ... 7 0 5]\n",
      "0.8391190476190477\n",
      "======Iteration : 450 ======= \n",
      "\n",
      "[4 9 6 ... 7 0 5] [4 9 6 ... 7 0 5]\n",
      "0.8466666666666667\n",
      "======Iteration : 500 ======= \n",
      "\n",
      "[4 9 6 ... 7 0 5] [4 9 6 ... 7 0 5]\n",
      "0.8539285714285715\n",
      "======Iteration : 550 ======= \n",
      "\n",
      "[4 9 6 ... 7 0 5] [4 9 6 ... 7 0 5]\n",
      "0.8593571428571428\n",
      "======Iteration : 600 ======= \n",
      "\n",
      "[4 9 6 ... 7 0 5] [4 9 6 ... 7 0 5]\n",
      "0.8635952380952381\n",
      "======Iteration : 650 ======= \n",
      "\n",
      "[4 9 6 ... 7 0 5] [4 9 6 ... 7 0 5]\n",
      "0.8673809523809524\n",
      "======Iteration : 700 ======= \n",
      "\n",
      "[4 9 6 ... 7 0 5] [4 9 6 ... 7 0 5]\n",
      "0.870452380952381\n",
      "======Iteration : 750 ======= \n",
      "\n",
      "[4 9 6 ... 7 0 5] [4 9 6 ... 7 0 5]\n",
      "0.8736428571428572\n",
      "======Iteration : 800 ======= \n",
      "\n",
      "[4 9 6 ... 7 0 5] [4 9 6 ... 7 0 5]\n",
      "0.8761666666666666\n",
      "======Iteration : 850 ======= \n",
      "\n",
      "[4 9 6 ... 7 0 5] [4 9 6 ... 7 0 5]\n",
      "0.8785714285714286\n",
      "======Iteration : 900 ======= \n",
      "\n",
      "[4 9 6 ... 7 0 5] [4 9 6 ... 7 0 5]\n",
      "0.8808095238095238\n",
      "======Iteration : 950 ======= \n",
      "\n",
      "[4 9 6 ... 7 0 5] [4 9 6 ... 7 0 5]\n",
      "0.882547619047619\n",
      "======Iteration : 1000 ======= \n",
      "\n",
      "[4 9 6 ... 7 0 5] [4 9 6 ... 7 0 5]\n",
      "0.8842619047619048\n",
      "======Iteration : 1050 ======= \n",
      "\n",
      "[4 9 6 ... 7 0 5] [4 9 6 ... 7 0 5]\n",
      "0.8861428571428571\n",
      "======Iteration : 1100 ======= \n",
      "\n",
      "[4 9 6 ... 7 0 5] [4 9 6 ... 7 0 5]\n",
      "0.8882380952380953\n",
      "======Iteration : 1150 ======= \n",
      "\n",
      "[4 9 6 ... 7 0 5] [4 9 6 ... 7 0 5]\n",
      "0.8896428571428572\n",
      "======Iteration : 1200 ======= \n",
      "\n",
      "[4 9 6 ... 7 0 5] [4 9 6 ... 7 0 5]\n",
      "0.8909047619047619\n",
      "======Iteration : 1250 ======= \n",
      "\n",
      "[4 9 6 ... 7 0 5] [4 9 6 ... 7 0 5]\n",
      "0.892452380952381\n",
      "======Iteration : 1300 ======= \n",
      "\n",
      "[4 9 6 ... 7 0 5] [4 9 6 ... 7 0 5]\n",
      "0.8935238095238095\n",
      "======Iteration : 1350 ======= \n",
      "\n",
      "[4 9 6 ... 7 0 5] [4 9 6 ... 7 0 5]\n",
      "0.8946904761904761\n",
      "======Iteration : 1400 ======= \n",
      "\n",
      "[4 9 6 ... 7 0 5] [4 9 6 ... 7 0 5]\n",
      "0.8955\n",
      "======Iteration : 1450 ======= \n",
      "\n",
      "[4 9 6 ... 7 0 5] [4 9 6 ... 7 0 5]\n",
      "0.8965714285714286\n",
      "======Iteration : 1500 ======= \n",
      "\n",
      "[4 9 6 ... 7 0 5] [4 9 6 ... 7 0 5]\n",
      "0.897547619047619\n",
      "======Iteration : 1550 ======= \n",
      "\n",
      "[4 9 6 ... 7 0 5] [4 9 6 ... 7 0 5]\n",
      "0.8986666666666666\n",
      "======Iteration : 1600 ======= \n",
      "\n",
      "[4 9 6 ... 7 0 5] [4 9 6 ... 7 0 5]\n",
      "0.8993571428571429\n",
      "======Iteration : 1650 ======= \n",
      "\n",
      "[4 9 6 ... 7 0 5] [4 9 6 ... 7 0 5]\n",
      "0.8998095238095238\n",
      "======Iteration : 1700 ======= \n",
      "\n",
      "[4 9 6 ... 7 0 5] [4 9 6 ... 7 0 5]\n",
      "0.9005952380952381\n"
     ]
    }
   ],
   "source": [
    "W1, W2, b1, b2 = gradient_descent(X_train,Y_train, 0.10, 1750)"
   ]
  },
  {
   "cell_type": "code",
   "execution_count": 19,
   "metadata": {
    "execution": {
     "iopub.execute_input": "2025-06-26T01:30:28.239191Z",
     "iopub.status.busy": "2025-06-26T01:30:28.238985Z",
     "iopub.status.idle": "2025-06-26T01:30:28.243792Z",
     "shell.execute_reply": "2025-06-26T01:30:28.243222Z",
     "shell.execute_reply.started": "2025-06-26T01:30:28.239177Z"
    },
    "trusted": true
   },
   "outputs": [],
   "source": [
    "def make_predictions(X, W1, b1, W2, b2):\n",
    "    _, _, _, A2 = forward_prop(W1, b1, W2, b2, X)\n",
    "    predictions = get_predictions(A2)\n",
    "    return predictions\n",
    "\n",
    "def test_prediction(index, W1, b1, W2, b2):\n",
    "    current_image = X_train[:, index, None]\n",
    "    prediction = make_predictions(X_train[:, index, None], W1, b1, W2, b2)\n",
    "    label = Y_train[index]\n",
    "    print(\"Prediction: \", prediction)\n",
    "    print(\"Label: \", label)\n",
    "    \n",
    "    current_image = current_image.reshape((28, 28)) * 255\n",
    "    plt.gray()\n",
    "    plt.imshow(current_image, interpolation='nearest')\n",
    "    plt.show()"
   ]
  },
  {
   "cell_type": "code",
   "execution_count": 28,
   "metadata": {
    "execution": {
     "iopub.execute_input": "2025-06-26T01:33:51.401969Z",
     "iopub.status.busy": "2025-06-26T01:33:51.401495Z",
     "iopub.status.idle": "2025-06-26T01:33:52.297277Z",
     "shell.execute_reply": "2025-06-26T01:33:52.296688Z",
     "shell.execute_reply.started": "2025-06-26T01:33:51.401954Z"
    },
    "trusted": true
   },
   "outputs": [
    {
     "name": "stdout",
     "output_type": "stream",
     "text": [
      "Prediction:  [4]\n",
      "Label:  4\n"
     ]
    },
    {
     "data": {
      "image/png": "[encoded data removed]",
      "text/plain": [
       "<Figure size 640x480 with 1 Axes>"
      ]
     },
     "metadata": {},
     "output_type": "display_data"
    },
    {
     "name": "stdout",
     "output_type": "stream",
     "text": [
      "Prediction:  [6]\n",
      "Label:  6\n"
     ]
    },
    {
     "data": {
      "image/png": "[encoded data removed]",
      "text/plain": [
       "<Figure size 640x480 with 1 Axes>"
      ]
     },
     "metadata": {},
     "output_type": "display_data"
    },
    {
     "name": "stdout",
     "output_type": "stream",
     "text": [
      "Prediction:  [4]\n",
      "Label:  4\n"
     ]
    },
    {
     "data": {
      "image/png": "[encoded data removed]",
      "text/plain": [
       "<Figure size 640x480 with 1 Axes>"
      ]
     },
     "metadata": {},
     "output_type": "display_data"
    },
    {
     "name": "stdout",
     "output_type": "stream",
     "text": [
      "Prediction:  [9]\n",
      "Label:  9\n"
     ]
    },
    {
     "data": {
      "image/png": "[encoded data removed]",
      "text/plain": [
       "<Figure size 640x480 with 1 Axes>"
      ]
     },
     "metadata": {},
     "output_type": "display_data"
    },
    {
     "name": "stdout",
     "output_type": "stream",
     "text": [
      "Prediction:  [4]\n",
      "Label:  4\n"
     ]
    },
    {
     "data": {
      "image/png": "[encoded data removed]",
      "text/plain": [
       "<Figure size 640x480 with 1 Axes>"
      ]
     },
     "metadata": {},
     "output_type": "display_data"
    },
    {
     "name": "stdout",
     "output_type": "stream",
     "text": [
      "Prediction:  [9]\n",
      "Label:  9\n"
     ]
    },
    {
     "data": {
      "image/png": "[encoded data removed]",
      "text/plain": [
       "<Figure size 640x480 with 1 Axes>"
      ]
     },
     "metadata": {},
     "output_type": "display_data"
    },
    {
     "name": "stdout",
     "output_type": "stream",
     "text": [
      "Prediction:  [4]\n",
      "Label:  4\n"
     ]
    },
    {
     "data": {
      "image/png": "[encoded data removed]",
      "text/plain": [
       "<Figure size 640x480 with 1 Axes>"
      ]
     },
     "metadata": {},
     "output_type": "display_data"
    },
    {
     "name": "stdout",
     "output_type": "stream",
     "text": [
      "Prediction:  [7]\n",
      "Label:  7\n"
     ]
    },
    {
     "data": {
      "image/png": "[encoded data removed]",
      "text/plain": [
       "<Figure size 640x480 with 1 Axes>"
      ]
     },
     "metadata": {},
     "output_type": "display_data"
    },
    {
     "name": "stdout",
     "output_type": "stream",
     "text": [
      "Prediction:  [0]\n",
      "Label:  0\n"
     ]
    },
    {
     "data": {
      "image/png": "[encoded data removed]",
      "text/plain": [
       "<Figure size 640x480 with 1 Axes>"
      ]
     },
     "metadata": {},
     "output_type": "display_data"
    },
    {
     "name": "stdout",
     "output_type": "stream",
     "text": [
      "Prediction:  [7]\n",
      "Label:  9\n"
     ]
    },
    {
     "data": {
      "image/png": "[encoded data removed]",
      "text/plain": [
       "<Figure size 640x480 with 1 Axes>"
      ]
     },
     "metadata": {},
     "output_type": "display_data"
    }
   ],
   "source": [
    "    for i in range(10):\n",
    "        test_prediction(np.random.randint(1,100), W1,W2, b1, b2)\n",
    "    #test_prediction(11, W1, W2, b1, b2)\n",
    "    #test_prediction(22, W1, W2, b1, b2)\n",
    "    #test_prediction(33, W1, W2, b1, b2)"
   ]
  },
  {
   "cell_type": "code",
   "execution_count": null,
   "metadata": {
    "trusted": true
   },
   "outputs": [],
   "source": []
  },
  {
   "cell_type": "code",
   "execution_count": null,
   "metadata": {
    "trusted": true
   },
   "outputs": [],
   "source": []
  }
 ],
 "metadata": {
  "kaggle": {
   "accelerator": "none",
   "dataSources": [
    {
     "databundleVersionId": 861823,
     "sourceId": 3004,
     "sourceType": "competition"
    },
    {
     "datasetId": 102285,
     "sourceId": 242592,
     "sourceType": "datasetVersion"
    }
   ],
   "dockerImageVersionId": 31040,
   "isGpuEnabled": false,
   "isInternetEnabled": false,
   "language": "python",
   "sourceType": "notebook"
  },
  "kernelspec": {
   "display_name": "Python 3",
   "language": "python",
   "name": "python3"
  },
  "language_info": {
   "codemirror_mode": {
    "name": "ipython",
    "version": 3
   },
   "file_extension": ".py",
   "mimetype": "text/x-python",
   "name": "python",
   "nbconvert_exporter": "python",
   "pygments_lexer": "ipython3",
   "version": "3.11.11"
  }
 },
 "nbformat": 4,
 "nbformat_minor": 4
}
